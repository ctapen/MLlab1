{
 "cells": [
  {
   "cell_type": "code",
   "execution_count": 19,
   "metadata": {},
   "outputs": [],
   "source": [
    "import pandas as pd\n",
    "import re\n",
    "#import nltk\n",
    "import matplotlib.pyplot as plt\n",
    "%matplotlib inline\n",
    "import seaborn as sns\n",
    "import numpy as np\n",
    "from datetime import datetime"
   ]
  },
  {
   "cell_type": "code",
   "execution_count": 6,
   "metadata": {},
   "outputs": [],
   "source": [
    "data_order = pd.read_csv('./data/Orders.csv')"
   ]
  },
  {
   "cell_type": "code",
   "execution_count": 9,
   "metadata": {},
   "outputs": [
    {
     "data": {
      "text/plain": [
       "(51290, 24)"
      ]
     },
     "execution_count": 9,
     "metadata": {},
     "output_type": "execute_result"
    }
   ],
   "source": [
    "data_order.shape"
   ]
  },
  {
   "cell_type": "code",
   "execution_count": 7,
   "metadata": {},
   "outputs": [
    {
     "data": {
      "text/html": [
       "<div>\n",
       "<style scoped>\n",
       "    .dataframe tbody tr th:only-of-type {\n",
       "        vertical-align: middle;\n",
       "    }\n",
       "\n",
       "    .dataframe tbody tr th {\n",
       "        vertical-align: top;\n",
       "    }\n",
       "\n",
       "    .dataframe thead th {\n",
       "        text-align: right;\n",
       "    }\n",
       "</style>\n",
       "<table border=\"1\" class=\"dataframe\">\n",
       "  <thead>\n",
       "    <tr style=\"text-align: right;\">\n",
       "      <th></th>\n",
       "      <th>Row.ID</th>\n",
       "      <th>Order.ID</th>\n",
       "      <th>Order.Date</th>\n",
       "      <th>Ship.Date</th>\n",
       "      <th>Ship.Mode</th>\n",
       "      <th>Customer.ID</th>\n",
       "      <th>Customer.Name</th>\n",
       "      <th>Segment</th>\n",
       "      <th>Postal.Code</th>\n",
       "      <th>City</th>\n",
       "      <th>...</th>\n",
       "      <th>Product.ID</th>\n",
       "      <th>Category</th>\n",
       "      <th>Sub.Category</th>\n",
       "      <th>Product.Name</th>\n",
       "      <th>Sales</th>\n",
       "      <th>Quantity</th>\n",
       "      <th>Discount</th>\n",
       "      <th>Profit</th>\n",
       "      <th>Shipping.Cost</th>\n",
       "      <th>Order.Priority</th>\n",
       "    </tr>\n",
       "  </thead>\n",
       "  <tbody>\n",
       "    <tr>\n",
       "      <th>25779</th>\n",
       "      <td>42204</td>\n",
       "      <td>IZ-2013-JO555061-41296</td>\n",
       "      <td>1/22/13</td>\n",
       "      <td>1/26/13</td>\n",
       "      <td>Standard Class</td>\n",
       "      <td>JO-555061</td>\n",
       "      <td>Jesus Ocampo</td>\n",
       "      <td>Home Office</td>\n",
       "      <td>NaN</td>\n",
       "      <td>Arbil</td>\n",
       "      <td>...</td>\n",
       "      <td>OFF-AR-3554</td>\n",
       "      <td>Office Supplies</td>\n",
       "      <td>Art</td>\n",
       "      <td>Boston Sketch Pad, Fluorescent</td>\n",
       "      <td>$99.72</td>\n",
       "      <td>2</td>\n",
       "      <td>0.0</td>\n",
       "      <td>$0.00</td>\n",
       "      <td>7.710</td>\n",
       "      <td>Medium</td>\n",
       "    </tr>\n",
       "    <tr>\n",
       "      <th>31572</th>\n",
       "      <td>2600</td>\n",
       "      <td>US-2015-HR1477098-42270</td>\n",
       "      <td>9/23/15</td>\n",
       "      <td>9/27/15</td>\n",
       "      <td>Standard Class</td>\n",
       "      <td>HR-1477098</td>\n",
       "      <td>Hallie Redmond</td>\n",
       "      <td>Home Office</td>\n",
       "      <td>NaN</td>\n",
       "      <td>Panama City</td>\n",
       "      <td>...</td>\n",
       "      <td>OFF-ST-4259</td>\n",
       "      <td>Office Supplies</td>\n",
       "      <td>Storage</td>\n",
       "      <td>Fellowes File Cart, Single Width</td>\n",
       "      <td>$54.94</td>\n",
       "      <td>1</td>\n",
       "      <td>0.4</td>\n",
       "      <td>-$25.64</td>\n",
       "      <td>4.829</td>\n",
       "      <td>High</td>\n",
       "    </tr>\n",
       "    <tr>\n",
       "      <th>16115</th>\n",
       "      <td>2476</td>\n",
       "      <td>MX-2015-YS2188031-42244</td>\n",
       "      <td>8/28/15</td>\n",
       "      <td>9/1/15</td>\n",
       "      <td>Standard Class</td>\n",
       "      <td>YS-2188031</td>\n",
       "      <td>Yana Sorensen</td>\n",
       "      <td>Corporate</td>\n",
       "      <td>NaN</td>\n",
       "      <td>San José de las Lajas</td>\n",
       "      <td>...</td>\n",
       "      <td>OFF-AP-4971</td>\n",
       "      <td>Office Supplies</td>\n",
       "      <td>Appliances</td>\n",
       "      <td>KitchenAid Toaster, White</td>\n",
       "      <td>$166.92</td>\n",
       "      <td>3</td>\n",
       "      <td>0.0</td>\n",
       "      <td>$70.08</td>\n",
       "      <td>17.738</td>\n",
       "      <td>High</td>\n",
       "    </tr>\n",
       "    <tr>\n",
       "      <th>45986</th>\n",
       "      <td>37297</td>\n",
       "      <td>US-2012-SH19975140-41252</td>\n",
       "      <td>12/9/12</td>\n",
       "      <td>12/13/12</td>\n",
       "      <td>Standard Class</td>\n",
       "      <td>SH-199751404</td>\n",
       "      <td>Sally Hughsby</td>\n",
       "      <td>Corporate</td>\n",
       "      <td>83605.0</td>\n",
       "      <td>Caldwell</td>\n",
       "      <td>...</td>\n",
       "      <td>OFF-PA-6604</td>\n",
       "      <td>Office Supplies</td>\n",
       "      <td>Paper</td>\n",
       "      <td>Xerox Color Copier Paper, 11\" x 17\", Ream</td>\n",
       "      <td>$91.36</td>\n",
       "      <td>4</td>\n",
       "      <td>0.0</td>\n",
       "      <td>$42.03</td>\n",
       "      <td>8.970</td>\n",
       "      <td>Medium</td>\n",
       "    </tr>\n",
       "    <tr>\n",
       "      <th>46</th>\n",
       "      <td>13847</td>\n",
       "      <td>IT-2014-EB1384045-41706</td>\n",
       "      <td>3/8/14</td>\n",
       "      <td>3/8/14</td>\n",
       "      <td>Same Day</td>\n",
       "      <td>EB-1384045</td>\n",
       "      <td>Ellis Ballard</td>\n",
       "      <td>Corporate</td>\n",
       "      <td>NaN</td>\n",
       "      <td>Montreuil</td>\n",
       "      <td>...</td>\n",
       "      <td>FUR-CH-5441</td>\n",
       "      <td>Furniture</td>\n",
       "      <td>Chairs</td>\n",
       "      <td>Office Star Executive Leather Armchair, Adjust...</td>\n",
       "      <td>$2,092.50</td>\n",
       "      <td>5</td>\n",
       "      <td>0.1</td>\n",
       "      <td>$720.75</td>\n",
       "      <td>652.980</td>\n",
       "      <td>Critical</td>\n",
       "    </tr>\n",
       "    <tr>\n",
       "      <th>33822</th>\n",
       "      <td>5183</td>\n",
       "      <td>MX-2015-CK1220518-42103</td>\n",
       "      <td>4/9/15</td>\n",
       "      <td>4/13/15</td>\n",
       "      <td>Standard Class</td>\n",
       "      <td>CK-1220518</td>\n",
       "      <td>Chloris Kastensmidt</td>\n",
       "      <td>Consumer</td>\n",
       "      <td>NaN</td>\n",
       "      <td>Birigui</td>\n",
       "      <td>...</td>\n",
       "      <td>TEC-AC-5205</td>\n",
       "      <td>Technology</td>\n",
       "      <td>Accessories</td>\n",
       "      <td>Memorex Memory Card, Programmable</td>\n",
       "      <td>$69.18</td>\n",
       "      <td>1</td>\n",
       "      <td>0.0</td>\n",
       "      <td>$21.44</td>\n",
       "      <td>3.973</td>\n",
       "      <td>Medium</td>\n",
       "    </tr>\n",
       "    <tr>\n",
       "      <th>4960</th>\n",
       "      <td>793</td>\n",
       "      <td>MX-2014-RP1939016-41801</td>\n",
       "      <td>6/11/14</td>\n",
       "      <td>6/13/14</td>\n",
       "      <td>First Class</td>\n",
       "      <td>RP-1939016</td>\n",
       "      <td>Resi Pölking</td>\n",
       "      <td>Consumer</td>\n",
       "      <td>NaN</td>\n",
       "      <td>Potosí</td>\n",
       "      <td>...</td>\n",
       "      <td>TEC-MA-5517</td>\n",
       "      <td>Technology</td>\n",
       "      <td>Machines</td>\n",
       "      <td>Okidata Receipt Printer, Wireless</td>\n",
       "      <td>$409.70</td>\n",
       "      <td>5</td>\n",
       "      <td>0.0</td>\n",
       "      <td>$106.50</td>\n",
       "      <td>67.217</td>\n",
       "      <td>Medium</td>\n",
       "    </tr>\n",
       "    <tr>\n",
       "      <th>6695</th>\n",
       "      <td>51092</td>\n",
       "      <td>GH-2015-DW348049-42195</td>\n",
       "      <td>7/10/15</td>\n",
       "      <td>7/13/15</td>\n",
       "      <td>First Class</td>\n",
       "      <td>DW-348049</td>\n",
       "      <td>Dianna Wilson</td>\n",
       "      <td>Home Office</td>\n",
       "      <td>NaN</td>\n",
       "      <td>Accra</td>\n",
       "      <td>...</td>\n",
       "      <td>TEC-MA-5547</td>\n",
       "      <td>Technology</td>\n",
       "      <td>Machines</td>\n",
       "      <td>Panasonic Inkjet, Red</td>\n",
       "      <td>$309.24</td>\n",
       "      <td>1</td>\n",
       "      <td>0.0</td>\n",
       "      <td>$86.58</td>\n",
       "      <td>51.110</td>\n",
       "      <td>Medium</td>\n",
       "    </tr>\n",
       "    <tr>\n",
       "      <th>14544</th>\n",
       "      <td>9532</td>\n",
       "      <td>MX-2014-MS1783082-41845</td>\n",
       "      <td>7/25/14</td>\n",
       "      <td>8/1/14</td>\n",
       "      <td>Standard Class</td>\n",
       "      <td>MS-1783082</td>\n",
       "      <td>Melanie Seite</td>\n",
       "      <td>Consumer</td>\n",
       "      <td>NaN</td>\n",
       "      <td>Jiutepec</td>\n",
       "      <td>...</td>\n",
       "      <td>OFF-EN-3664</td>\n",
       "      <td>Office Supplies</td>\n",
       "      <td>Envelopes</td>\n",
       "      <td>Cameo Interoffice Envelope, with clear poly wi...</td>\n",
       "      <td>$169.90</td>\n",
       "      <td>5</td>\n",
       "      <td>0.0</td>\n",
       "      <td>$15.20</td>\n",
       "      <td>20.562</td>\n",
       "      <td>Medium</td>\n",
       "    </tr>\n",
       "    <tr>\n",
       "      <th>9068</th>\n",
       "      <td>801</td>\n",
       "      <td>MX-2014-JH1582039-41927</td>\n",
       "      <td>10/15/14</td>\n",
       "      <td>10/21/14</td>\n",
       "      <td>Standard Class</td>\n",
       "      <td>JH-1582039</td>\n",
       "      <td>John Huston</td>\n",
       "      <td>Consumer</td>\n",
       "      <td>NaN</td>\n",
       "      <td>Cuscatancingo</td>\n",
       "      <td>...</td>\n",
       "      <td>OFF-ST-4267</td>\n",
       "      <td>Office Supplies</td>\n",
       "      <td>Storage</td>\n",
       "      <td>Fellowes Lockers, Industrial</td>\n",
       "      <td>$554.16</td>\n",
       "      <td>4</td>\n",
       "      <td>0.0</td>\n",
       "      <td>$11.04</td>\n",
       "      <td>36.953</td>\n",
       "      <td>Medium</td>\n",
       "    </tr>\n",
       "  </tbody>\n",
       "</table>\n",
       "<p>10 rows × 24 columns</p>\n",
       "</div>"
      ],
      "text/plain": [
       "       Row.ID                  Order.ID Order.Date Ship.Date       Ship.Mode  \\\n",
       "25779   42204    IZ-2013-JO555061-41296    1/22/13   1/26/13  Standard Class   \n",
       "31572    2600   US-2015-HR1477098-42270    9/23/15   9/27/15  Standard Class   \n",
       "16115    2476   MX-2015-YS2188031-42244    8/28/15    9/1/15  Standard Class   \n",
       "45986   37297  US-2012-SH19975140-41252    12/9/12  12/13/12  Standard Class   \n",
       "46      13847   IT-2014-EB1384045-41706     3/8/14    3/8/14        Same Day   \n",
       "33822    5183   MX-2015-CK1220518-42103     4/9/15   4/13/15  Standard Class   \n",
       "4960      793   MX-2014-RP1939016-41801    6/11/14   6/13/14     First Class   \n",
       "6695    51092    GH-2015-DW348049-42195    7/10/15   7/13/15     First Class   \n",
       "14544    9532   MX-2014-MS1783082-41845    7/25/14    8/1/14  Standard Class   \n",
       "9068      801   MX-2014-JH1582039-41927   10/15/14  10/21/14  Standard Class   \n",
       "\n",
       "        Customer.ID        Customer.Name      Segment  Postal.Code  \\\n",
       "25779     JO-555061         Jesus Ocampo  Home Office          NaN   \n",
       "31572    HR-1477098       Hallie Redmond  Home Office          NaN   \n",
       "16115    YS-2188031        Yana Sorensen    Corporate          NaN   \n",
       "45986  SH-199751404        Sally Hughsby    Corporate      83605.0   \n",
       "46       EB-1384045        Ellis Ballard    Corporate          NaN   \n",
       "33822    CK-1220518  Chloris Kastensmidt     Consumer          NaN   \n",
       "4960     RP-1939016         Resi Pölking     Consumer          NaN   \n",
       "6695      DW-348049        Dianna Wilson  Home Office          NaN   \n",
       "14544    MS-1783082        Melanie Seite     Consumer          NaN   \n",
       "9068     JH-1582039          John Huston     Consumer          NaN   \n",
       "\n",
       "                        City       ...         Product.ID         Category  \\\n",
       "25779                  Arbil       ...        OFF-AR-3554  Office Supplies   \n",
       "31572            Panama City       ...        OFF-ST-4259  Office Supplies   \n",
       "16115  San José de las Lajas       ...        OFF-AP-4971  Office Supplies   \n",
       "45986               Caldwell       ...        OFF-PA-6604  Office Supplies   \n",
       "46                 Montreuil       ...        FUR-CH-5441        Furniture   \n",
       "33822                Birigui       ...        TEC-AC-5205       Technology   \n",
       "4960                  Potosí       ...        TEC-MA-5517       Technology   \n",
       "6695                   Accra       ...        TEC-MA-5547       Technology   \n",
       "14544               Jiutepec       ...        OFF-EN-3664  Office Supplies   \n",
       "9068           Cuscatancingo       ...        OFF-ST-4267  Office Supplies   \n",
       "\n",
       "      Sub.Category                                       Product.Name  \\\n",
       "25779          Art                     Boston Sketch Pad, Fluorescent   \n",
       "31572      Storage                   Fellowes File Cart, Single Width   \n",
       "16115   Appliances                          KitchenAid Toaster, White   \n",
       "45986        Paper          Xerox Color Copier Paper, 11\" x 17\", Ream   \n",
       "46          Chairs  Office Star Executive Leather Armchair, Adjust...   \n",
       "33822  Accessories                  Memorex Memory Card, Programmable   \n",
       "4960      Machines                  Okidata Receipt Printer, Wireless   \n",
       "6695      Machines                              Panasonic Inkjet, Red   \n",
       "14544    Envelopes  Cameo Interoffice Envelope, with clear poly wi...   \n",
       "9068       Storage                       Fellowes Lockers, Industrial   \n",
       "\n",
       "           Sales Quantity Discount   Profit Shipping.Cost  Order.Priority  \n",
       "25779     $99.72        2      0.0    $0.00         7.710          Medium  \n",
       "31572     $54.94        1      0.4  -$25.64         4.829            High  \n",
       "16115    $166.92        3      0.0   $70.08        17.738            High  \n",
       "45986     $91.36        4      0.0   $42.03         8.970          Medium  \n",
       "46     $2,092.50        5      0.1  $720.75       652.980        Critical  \n",
       "33822     $69.18        1      0.0   $21.44         3.973          Medium  \n",
       "4960     $409.70        5      0.0  $106.50        67.217          Medium  \n",
       "6695     $309.24        1      0.0   $86.58        51.110          Medium  \n",
       "14544    $169.90        5      0.0   $15.20        20.562          Medium  \n",
       "9068     $554.16        4      0.0   $11.04        36.953          Medium  \n",
       "\n",
       "[10 rows x 24 columns]"
      ]
     },
     "execution_count": 7,
     "metadata": {},
     "output_type": "execute_result"
    }
   ],
   "source": [
    "data_order.sample(10)"
   ]
  },
  {
   "cell_type": "code",
   "execution_count": 16,
   "metadata": {},
   "outputs": [],
   "source": [
    "def tonum(str_):\n",
    "    return float(str_.replace(',','').replace('$','').strip())\n",
    "data_order['Profit'] = data_order['Profit'].apply(tonum)\n"
   ]
  },
  {
   "cell_type": "code",
   "execution_count": 18,
   "metadata": {},
   "outputs": [],
   "source": []
  },
  {
   "cell_type": "code",
   "execution_count": 29,
   "metadata": {},
   "outputs": [],
   "source": [
    "data_order['Order.Date'] = pd.to_datetime(data_order['Order.Date'],format ='%m/%d/%y')\n",
    "data_order['Ship.Date'] = pd.to_datetime(data_order['Ship.Date'],format ='%m/%d/%y')"
   ]
  },
  {
   "cell_type": "code",
   "execution_count": 31,
   "metadata": {},
   "outputs": [],
   "source": [
    "data_order['Order.Year'] = pd.DatetimeIndex(data_order['Order.Date']).year"
   ]
  },
  {
   "cell_type": "code",
   "execution_count": 33,
   "metadata": {},
   "outputs": [],
   "source": [
    "data_order['Order.Month'] = pd.DatetimeIndex(data_order['Order.Date']).month"
   ]
  },
  {
   "cell_type": "code",
   "execution_count": 52,
   "metadata": {},
   "outputs": [
    {
     "data": {
      "text/plain": [
       "<matplotlib.axes._subplots.AxesSubplot at 0x110add668>"
      ]
     },
     "execution_count": 52,
     "metadata": {},
     "output_type": "execute_result"
    },
    {
     "data": {
      "image/png": "[encoded data removed]",
      "text/plain": [
       "<matplotlib.figure.Figure at 0x110058550>"
      ]
     },
     "metadata": {},
     "output_type": "display_data"
    }
   ],
   "source": [
    "data_order.groupby(['Order.Month','Category']).sum().unstack()['Quantity'].plot()"
   ]
  },
  {
   "cell_type": "code",
   "execution_count": 54,
   "metadata": {},
   "outputs": [
    {
     "data": {
      "text/plain": [
       "<matplotlib.axes._subplots.AxesSubplot at 0x1a220cfc50>"
      ]
     },
     "execution_count": 54,
     "metadata": {},
     "output_type": "execute_result"
    },
    {
     "data": {
      "image/png": "[encoded data removed]",
      "text/plain": [
       "<matplotlib.figure.Figure at 0x10ed78a20>"
      ]
     },
     "metadata": {},
     "output_type": "display_data"
    }
   ],
   "source": [
    "data_order.groupby(['Order.Month','Category'])['Sales'].sum().unstack().plot()"
   ]
  },
  {
   "cell_type": "code",
   "execution_count": 55,
   "metadata": {},
   "outputs": [
    {
     "data": {
      "text/plain": [
       "<matplotlib.axes._subplots.AxesSubplot at 0x1a224042e8>"
      ]
     },
     "execution_count": 55,
     "metadata": {},
     "output_type": "execute_result"
    },
    {
     "data": {
      "image/png": "[encoded data removed]",
      "text/plain": [
       "<matplotlib.figure.Figure at 0x1a22406c88>"
      ]
     },
     "metadata": {},
     "output_type": "display_data"
    }
   ],
   "source": [
    "data_order.groupby(['Order.Month','Category'])['Profit'].sum().unstack().plot()"
   ]
  },
  {
   "cell_type": "code",
   "execution_count": 58,
   "metadata": {},
   "outputs": [
    {
     "data": {
      "text/plain": [
       "<matplotlib.axes._subplots.AxesSubplot at 0x1a222130b8>"
      ]
     },
     "execution_count": 58,
     "metadata": {},
     "output_type": "execute_result"
    },
    {
     "data": {
      "image/png": "[encoded data removed]",
      "text/plain": [
       "<matplotlib.figure.Figure at 0x1a2221a5f8>"
      ]
     },
     "metadata": {},
     "output_type": "display_data"
    }
   ],
   "source": [
    "data_order.groupby(['Order.Month','Order.Priority'])['Quantity'].sum().unstack().plot()"
   ]
  },
  {
   "cell_type": "code",
   "execution_count": 59,
   "metadata": {},
   "outputs": [],
   "source": [
    "returns = pd.read_csv('./data/Returns.csv')"
   ]
  },
  {
   "cell_type": "code",
   "execution_count": 99,
   "metadata": {},
   "outputs": [
    {
     "data": {
      "text/html": [
       "<div>\n",
       "<style scoped>\n",
       "    .dataframe tbody tr th:only-of-type {\n",
       "        vertical-align: middle;\n",
       "    }\n",
       "\n",
       "    .dataframe tbody tr th {\n",
       "        vertical-align: top;\n",
       "    }\n",
       "\n",
       "    .dataframe thead th {\n",
       "        text-align: right;\n",
       "    }\n",
       "</style>\n",
       "<table border=\"1\" class=\"dataframe\">\n",
       "  <thead>\n",
       "    <tr style=\"text-align: right;\">\n",
       "      <th></th>\n",
       "      <th>Returned</th>\n",
       "      <th>Order ID</th>\n",
       "      <th>Region</th>\n",
       "    </tr>\n",
       "  </thead>\n",
       "  <tbody>\n",
       "    <tr>\n",
       "      <th>961</th>\n",
       "      <td>Yes</td>\n",
       "      <td>ES-2012-MZ1751545-41262</td>\n",
       "      <td>Western Europe</td>\n",
       "    </tr>\n",
       "    <tr>\n",
       "      <th>636</th>\n",
       "      <td>Yes</td>\n",
       "      <td>CA-2013-LS17245140-41629</td>\n",
       "      <td>Southern US</td>\n",
       "    </tr>\n",
       "    <tr>\n",
       "      <th>895</th>\n",
       "      <td>Yes</td>\n",
       "      <td>US-2014-JE1574555-41971</td>\n",
       "      <td>Central America</td>\n",
       "    </tr>\n",
       "    <tr>\n",
       "      <th>106</th>\n",
       "      <td>Yes</td>\n",
       "      <td>US-2012-LT17110140-41060</td>\n",
       "      <td>Southern US</td>\n",
       "    </tr>\n",
       "    <tr>\n",
       "      <th>720</th>\n",
       "      <td>Yes</td>\n",
       "      <td>CA-2012-RH19495140-41143</td>\n",
       "      <td>Eastern US</td>\n",
       "    </tr>\n",
       "    <tr>\n",
       "      <th>872</th>\n",
       "      <td>Yes</td>\n",
       "      <td>EG-2014-SB1018538-41944</td>\n",
       "      <td>North Africa</td>\n",
       "    </tr>\n",
       "    <tr>\n",
       "      <th>634</th>\n",
       "      <td>Yes</td>\n",
       "      <td>MX-2014-ML1775593-41795</td>\n",
       "      <td>Central America</td>\n",
       "    </tr>\n",
       "    <tr>\n",
       "      <th>216</th>\n",
       "      <td>Yes</td>\n",
       "      <td>IN-2014-KL1655592-41857</td>\n",
       "      <td>Oceania</td>\n",
       "    </tr>\n",
       "    <tr>\n",
       "      <th>934</th>\n",
       "      <td>Yes</td>\n",
       "      <td>CA-2014-DP13390140-41784</td>\n",
       "      <td>Eastern US</td>\n",
       "    </tr>\n",
       "    <tr>\n",
       "      <th>882</th>\n",
       "      <td>Yes</td>\n",
       "      <td>IN-2015-DK1289559-42281</td>\n",
       "      <td>Southeastern Asia</td>\n",
       "    </tr>\n",
       "  </tbody>\n",
       "</table>\n",
       "</div>"
      ],
      "text/plain": [
       "    Returned                  Order ID             Region\n",
       "961      Yes   ES-2012-MZ1751545-41262     Western Europe\n",
       "636      Yes  CA-2013-LS17245140-41629        Southern US\n",
       "895      Yes   US-2014-JE1574555-41971    Central America\n",
       "106      Yes  US-2012-LT17110140-41060        Southern US\n",
       "720      Yes  CA-2012-RH19495140-41143         Eastern US\n",
       "872      Yes   EG-2014-SB1018538-41944       North Africa\n",
       "634      Yes   MX-2014-ML1775593-41795    Central America\n",
       "216      Yes   IN-2014-KL1655592-41857            Oceania\n",
       "934      Yes  CA-2014-DP13390140-41784         Eastern US\n",
       "882      Yes   IN-2015-DK1289559-42281  Southeastern Asia"
      ]
     },
     "execution_count": 99,
     "metadata": {},
     "output_type": "execute_result"
    }
   ],
   "source": [
    "returns.sample(10)"
   ]
  },
  {
   "cell_type": "code",
   "execution_count": 67,
   "metadata": {},
   "outputs": [
    {
     "data": {
      "text/plain": [
       "(1079, 3)"
      ]
     },
     "execution_count": 67,
     "metadata": {},
     "output_type": "execute_result"
    }
   ],
   "source": [
    "returns.shape"
   ]
  },
  {
   "cell_type": "code",
   "execution_count": 65,
   "metadata": {},
   "outputs": [],
   "source": [
    "mrgtable = pd.merge(data_order, returns, how='left', left_on = 'Order.ID', right_on = \"Order ID\")"
   ]
  },
  {
   "cell_type": "code",
   "execution_count": 100,
   "metadata": {},
   "outputs": [
    {
     "data": {
      "text/plain": [
       "0               Central US\n",
       "1                  Oceania\n",
       "2                  Oceania\n",
       "3           Western Europe\n",
       "4           Western Africa\n",
       "5                  Oceania\n",
       "6                  Oceania\n",
       "7                  Oceania\n",
       "8               Central US\n",
       "9               Western US\n",
       "10              Western US\n",
       "11           Southern Asia\n",
       "12            Western Asia\n",
       "13           South America\n",
       "14            Eastern Asia\n",
       "15          Western Europe\n",
       "16              Central US\n",
       "17         Southern Europe\n",
       "18                 Oceania\n",
       "19          Eastern Africa\n",
       "20          Eastern Europe\n",
       "21              Western US\n",
       "22            Eastern Asia\n",
       "23         Northern Europe\n",
       "24         Central America\n",
       "25         Central America\n",
       "26            Eastern Asia\n",
       "27          Western Europe\n",
       "28              Eastern US\n",
       "29           Southern Asia\n",
       "               ...        \n",
       "51260           Central US\n",
       "51261          Southern US\n",
       "51262           Western US\n",
       "51263      Central America\n",
       "51264              Oceania\n",
       "51265           Central US\n",
       "51266    Southeastern Asia\n",
       "51267           Western US\n",
       "51268         Western Asia\n",
       "51269      Northern Europe\n",
       "51270       Western Europe\n",
       "51271           Central US\n",
       "51272            Caribbean\n",
       "51273        South America\n",
       "51274      Central America\n",
       "51275       Eastern Africa\n",
       "51276           Western US\n",
       "51277         Western Asia\n",
       "51278       Western Europe\n",
       "51279       Western Africa\n",
       "51280          Southern US\n",
       "51281        South America\n",
       "51282              Oceania\n",
       "51283        Southern Asia\n",
       "51284      Central America\n",
       "51285         Eastern Asia\n",
       "51286          Southern US\n",
       "51287           Western US\n",
       "51288        South America\n",
       "51289      Central America\n",
       "Name: Region_x, Length: 51290, dtype: object"
      ]
     },
     "execution_count": 100,
     "metadata": {},
     "output_type": "execute_result"
    }
   ],
   "source": []
  },
  {
   "cell_type": "code",
   "execution_count": 80,
   "metadata": {},
   "outputs": [
    {
     "data": {
      "text/plain": [
       "<matplotlib.axes._subplots.AxesSubplot at 0x115fc6390>"
      ]
     },
     "execution_count": 80,
     "metadata": {},
     "output_type": "execute_result"
    },
    {
     "data": {
      "image/png": "[encoded data removed]",
      "text/plain": [
       "<matplotlib.figure.Figure at 0x1a21717cc0>"
      ]
     },
     "metadata": {},
     "output_type": "display_data"
    }
   ],
   "source": [
    "mrgtable[(mrgtable['Returned'] == \"Yes\")].groupby('Order.Year')['Profit'].sum().plot('bar')"
   ]
  },
  {
   "cell_type": "code",
   "execution_count": 83,
   "metadata": {},
   "outputs": [
    {
     "data": {
      "text/plain": [
       "Customer.Name\n",
       "Aaron Bergman            2\n",
       "Aaron Hawkins            2\n",
       "Aaron Smayling           2\n",
       "Adam Shillingsburg       3\n",
       "Adrian Barton            3\n",
       "Adrian Hane              4\n",
       "Aimee Bixby              1\n",
       "Alan Barnes              8\n",
       "Alan Dominguez           2\n",
       "Alan Haines              3\n",
       "Alan Schoenberger        2\n",
       "Alan Shonely             1\n",
       "Alejandro Ballentine     3\n",
       "Alejandro Savely        10\n",
       "Alex Avila               1\n",
       "Alex Russell             2\n",
       "Alice McCarthy           5\n",
       "Allen Goldenen           2\n",
       "Allen Rosenblatt         2\n",
       "Alyssa Tate              6\n",
       "Amy Hunt                 2\n",
       "Andrew Gjertsen         13\n",
       "Andrew Roberts           3\n",
       "Andy Gerbode             4\n",
       "Andy Yotov               1\n",
       "Anemone Ratner           2\n",
       "Angele Hood              5\n",
       "Ann Blume               10\n",
       "Ann Chong                2\n",
       "Anna Andreadi            6\n",
       "                        ..\n",
       "Toby Carlisle            4\n",
       "Toby Gnade               1\n",
       "Toby Ritter              3\n",
       "Toby Swindell            1\n",
       "Tom Boeckenhauer        17\n",
       "Tom Prescott             5\n",
       "Tom Zandusky             4\n",
       "Tonja Turnell            1\n",
       "Tony Chapman             2\n",
       "Tony Molinari            1\n",
       "Tony Sayre               7\n",
       "Tracy Blumstein          2\n",
       "Tracy Collins            1\n",
       "Tracy Poddar             3\n",
       "Tracy Zic                1\n",
       "Trudy Brown              7\n",
       "Trudy Glocke             3\n",
       "Trudy Schmidt            4\n",
       "Valerie Dominguez        3\n",
       "Vicky Freymann           4\n",
       "Victor Preis             2\n",
       "Victoria Brennan         3\n",
       "Victoria Wilson          2\n",
       "Vivek Gonzalez           1\n",
       "Vivek Grady              1\n",
       "Vivian Mathis            5\n",
       "William Brown            5\n",
       "Yana Sorensen            1\n",
       "Zuschuss Carroll         1\n",
       "Zuschuss Donatelli       1\n",
       "Name: Customer.Name, Length: 593, dtype: int64"
      ]
     },
     "execution_count": 83,
     "metadata": {},
     "output_type": "execute_result"
    }
   ],
   "source": [
    "mrgtable[(mrgtable['Returned'] == \"Yes\")].groupby('Customer.Name')['Customer.Name'].count()"
   ]
  },
  {
   "cell_type": "code",
   "execution_count": 92,
   "metadata": {},
   "outputs": [
    {
     "data": {
      "text/plain": [
       "Customer.ID\n",
       "AA-1031558      False\n",
       "AA-106451404    False\n",
       "AA-1064559      False\n",
       "AA-1064564      False\n",
       "AA-645137       False\n",
       "AB-1001527      False\n",
       "AB-10105101     False\n",
       "AB-1015093      False\n",
       "AB-10165139     False\n",
       "AB-1016545       True\n",
       "AB-102551404    False\n",
       "AB-1025582      False\n",
       "AB-1060058      False\n",
       "AB-1060064      False\n",
       "AB-25586        False\n",
       "AB-60086         True\n",
       "AC-1061558      False\n",
       "AC-66038        False\n",
       "AD-101801406    False\n",
       "AF-1087026      False\n",
       "AG-1039045      False\n",
       "AG-104951402    False\n",
       "AG-1049545      False\n",
       "AG-1049564      False\n",
       "AG-105251402    False\n",
       "AG-1052518      False\n",
       "AG-1052582      False\n",
       "AG-106751408    False\n",
       "AG-1076527      False\n",
       "AG-1076539      False\n",
       "                ...  \n",
       "TS-215051404    False\n",
       "TS-2150559      False\n",
       "TS-216551408    False\n",
       "TT-210701408    False\n",
       "TT-212201404    False\n",
       "TT-212651406    False\n",
       "TT-2146045      False\n",
       "TW-2102578      False\n",
       "TZ-1144523      False\n",
       "TZ-1144577      False\n",
       "TZ-2144518      False\n",
       "TZ-2158093      False\n",
       "VB-217451       False\n",
       "VD-216701408    False\n",
       "VD-2167059      False\n",
       "VF-2171527      False\n",
       "VG-1179038      False\n",
       "VG-2180548      False\n",
       "VM-218351404    False\n",
       "VM-2183551      False\n",
       "VP-2173048      False\n",
       "VP-2173058      False\n",
       "VW-217751406    False\n",
       "VW-2177545      False\n",
       "WB-21850139     False\n",
       "WB-218501406    False\n",
       "WB-2185064      False\n",
       "YS-2188093      False\n",
       "ZC-219101402    False\n",
       "ZD-2192548      False\n",
       "Name: Customer.ID, Length: 1061, dtype: bool"
      ]
     },
     "execution_count": 92,
     "metadata": {},
     "output_type": "execute_result"
    }
   ],
   "source": [
    "(mrgtable[(mrgtable['Returned'] == \"Yes\")].groupby('Customer.ID')['Customer.ID'].count()>5) == True"
   ]
  },
  {
   "cell_type": "code",
   "execution_count": 102,
   "metadata": {},
   "outputs": [
    {
     "data": {
      "text/plain": [
       "Eastern Africa       0.024725\n",
       "Central Africa       0.026439\n",
       "Eastern Europe       0.027469\n",
       "Central US           0.030564\n",
       "Northern Europe      0.034483\n",
       "Western Europe       0.039606\n",
       "North Africa         0.039906\n",
       "Caribbean            0.040828\n",
       "Western Africa       0.041096\n",
       "Central Asia         0.041475\n",
       "Southern Asia        0.041808\n",
       "Central America      0.044160\n",
       "Oceania              0.044164\n",
       "Western Asia         0.044262\n",
       "South America        0.044511\n",
       "Southeastern Asia    0.044743\n",
       "Eastern US           0.047051\n",
       "Southern US          0.051235\n",
       "Southern Africa      0.052301\n",
       "Southern Europe      0.053005\n",
       "Eastern Asia         0.055181\n",
       "Western US           0.056197\n",
       "Canada                    NaN\n",
       "Eastern Canada            NaN\n",
       "Western Canada            NaN\n",
       "dtype: float64"
      ]
     },
     "execution_count": 102,
     "metadata": {},
     "output_type": "execute_result"
    }
   ],
   "source": [
    "# which is the region most likely to return\n",
    "(mrgtable[(mrgtable['Returned'] == \"Yes\")].groupby('Region_y')['Region_y'].count()/mrgtable.groupby('Region_x')['Region_x'].count()).sort_values()"
   ]
  },
  {
   "cell_type": "code",
   "execution_count": 104,
   "metadata": {},
   "outputs": [
    {
     "data": {
      "text/plain": [
       "Sub.Category\n",
       "Appliances     0.033869\n",
       "Fasteners      0.039216\n",
       "Envelopes      0.041475\n",
       "Storage        0.041989\n",
       "Machines       0.042396\n",
       "Supplies       0.042792\n",
       "Furnishings    0.042803\n",
       "Chairs         0.042807\n",
       "Paper          0.042955\n",
       "Bookcases      0.043136\n",
       "Phones         0.043193\n",
       "Binders        0.043768\n",
       "Copiers        0.044534\n",
       "Art            0.044613\n",
       "Accessories    0.044878\n",
       "Tables         0.047619\n",
       "Labels         0.052672\n",
       "Name: Sub.Category, dtype: float64"
      ]
     },
     "execution_count": 104,
     "metadata": {},
     "output_type": "execute_result"
    }
   ],
   "source": [
    "# what is the sub-category mostly likely to be returned. \n",
    "(mrgtable[(mrgtable['Returned'] == \"Yes\")].groupby('Sub.Category')['Sub.Category'].count()/mrgtable.groupby('Sub.Category')['Sub.Category'].count()).sort_values()"
   ]
  },
  {
   "cell_type": "code",
   "execution_count": null,
   "metadata": {},
   "outputs": [],
   "source": []
  }
 ],
 "metadata": {
  "kernelspec": {
   "display_name": "Python 3",
   "language": "python",
   "name": "python3"
  },
  "language_info": {
   "codemirror_mode": {
    "name": "ipython",
    "version": 3
   },
   "file_extension": ".py",
   "mimetype": "text/x-python",
   "name": "python",
   "nbconvert_exporter": "python",
   "pygments_lexer": "ipython3",
   "version": "3.6.4"
  }
 },
 "nbformat": 4,
 "nbformat_minor": 2
}
